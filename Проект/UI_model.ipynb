{
 "cells": [
  {
   "cell_type": "code",
   "execution_count": 1,
   "id": "ba998697",
   "metadata": {},
   "outputs": [
    {
     "name": "stderr",
     "output_type": "stream",
     "text": [
      "c:\\Users\\mrpec\\OneDrive\\Рабочий стол\\ML_HSE\\Проект\\.venv\\Lib\\site-packages\\tqdm\\auto.py:21: TqdmWarning: IProgress not found. Please update jupyter and ipywidgets. See https://ipywidgets.readthedocs.io/en/stable/user_install.html\n",
      "  from .autonotebook import tqdm as notebook_tqdm\n"
     ]
    }
   ],
   "source": [
    "from transformers import AutoModelForSeq2SeqLM, AutoTokenizer, pipeline\n",
    "import gradio as gr"
   ]
  },
  {
   "cell_type": "code",
   "execution_count": null,
   "id": "f6195ae5",
   "metadata": {},
   "outputs": [
    {
     "name": "stderr",
     "output_type": "stream",
     "text": [
      "c:\\Users\\mrpec\\OneDrive\\Рабочий стол\\ML_HSE\\Проект\\.venv\\Lib\\site-packages\\transformers\\models\\marian\\tokenization_marian.py:175: UserWarning: Recommended: pip install sacremoses.\n",
      "  warnings.warn(\"Recommended: pip install sacremoses.\")\n"
     ]
    }
   ],
   "source": [
    "\n",
    "model = AutoModelForSeq2SeqLM.from_pretrained(\"my_model_ver2\")\n",
    "tokenizer = AutoTokenizer.from_pretrained(\"my_model_ver2\")"
   ]
  },
  {
   "cell_type": "code",
   "execution_count": 3,
   "id": "57bc933b",
   "metadata": {},
   "outputs": [],
   "source": [
    "# Пайплайн для перевода\n",
    "def translate_str(string):\n",
    "    translator = pipeline(\"translation\", model=model, tokenizer=tokenizer)  \n",
    "    translated_string = (translator(string)[0]['translation_text'])\n",
    "    return translated_string\n"
   ]
  },
  {
   "cell_type": "code",
   "execution_count": 9,
   "id": "f0f22465",
   "metadata": {},
   "outputs": [
    {
     "name": "stderr",
     "output_type": "stream",
     "text": [
      "c:\\Users\\mrpec\\OneDrive\\Рабочий стол\\ML_HSE\\Проект\\.venv\\Lib\\site-packages\\gradio\\utils.py:1018: UserWarning: Expected 1 arguments for function <function translate_str at 0x0000019A5368DD00>, received 2.\n",
      "  warnings.warn(\n",
      "c:\\Users\\mrpec\\OneDrive\\Рабочий стол\\ML_HSE\\Проект\\.venv\\Lib\\site-packages\\gradio\\utils.py:1026: UserWarning: Expected maximum 1 arguments for function <function translate_str at 0x0000019A5368DD00>, received 2.\n",
      "  warnings.warn(\n"
     ]
    }
   ],
   "source": [
    "ui = gr.Interface(\n",
    "    fn = translate_str,\n",
    "    inputs=[\"text\", \"file\"],\n",
    "    outputs=[\"text\"]\n",
    ")\n"
   ]
  },
  {
   "cell_type": "code",
   "execution_count": 10,
   "id": "5af8c297",
   "metadata": {},
   "outputs": [
    {
     "name": "stdout",
     "output_type": "stream",
     "text": [
      "* Running on local URL:  http://127.0.0.1:7862\n",
      "* To create a public link, set `share=True` in `launch()`.\n"
     ]
    },
    {
     "data": {
      "text/html": [
       "<div><iframe src=\"http://127.0.0.1:7862/\" width=\"100%\" height=\"500\" allow=\"autoplay; camera; microphone; clipboard-read; clipboard-write;\" frameborder=\"0\" allowfullscreen></iframe></div>"
      ],
      "text/plain": [
       "<IPython.core.display.HTML object>"
      ]
     },
     "metadata": {},
     "output_type": "display_data"
    },
    {
     "data": {
      "text/plain": []
     },
     "execution_count": 10,
     "metadata": {},
     "output_type": "execute_result"
    }
   ],
   "source": [
    "# Запускаю UI\n",
    "ui.launch()"
   ]
  }
 ],
 "metadata": {
  "kernelspec": {
   "display_name": ".venv",
   "language": "python",
   "name": "python3"
  },
  "language_info": {
   "codemirror_mode": {
    "name": "ipython",
    "version": 3
   },
   "file_extension": ".py",
   "mimetype": "text/x-python",
   "name": "python",
   "nbconvert_exporter": "python",
   "pygments_lexer": "ipython3",
   "version": "3.11.9"
  }
 },
 "nbformat": 4,
 "nbformat_minor": 5
}
