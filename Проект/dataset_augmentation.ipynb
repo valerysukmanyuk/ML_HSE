{
 "cells": [
  {
   "cell_type": "markdown",
   "id": "ba7e739a",
   "metadata": {},
   "source": [
    "## Аугментируем данные через LLM и YandexTranslate"
   ]
  },
  {
   "cell_type": "markdown",
   "id": "e1b413fa",
   "metadata": {},
   "source": [
    "#### ***Deepseek way***"
   ]
  },
  {
   "cell_type": "code",
   "execution_count": 1,
   "id": "13e354be",
   "metadata": {},
   "outputs": [],
   "source": [
    "import pandas as pd\n",
    "from openai import OpenAI\n",
    "import re\n",
    "import requests\n",
    "from keys import deepkey, api_key, folder_id\n",
    "import time"
   ]
  },
  {
   "cell_type": "code",
   "execution_count": null,
   "id": "ee1ccca7",
   "metadata": {},
   "outputs": [],
   "source": [
    "# Создаем датафрейм с примерами для промта\n",
    "\n",
    "example_df = pd.read_csv(\"data/data_en.csv\")  \n",
    "\n",
    "# Создаем датафрейм для аугментированных данных\n",
    "\n",
    "df_augmentation = pd.DataFrame()\n"
   ]
  },
  {
   "cell_type": "code",
   "execution_count": null,
   "id": "3253df4d",
   "metadata": {},
   "outputs": [],
   "source": [
    "# Создаем клиент для API\n",
    "\n",
    "client = OpenAI(\n",
    "    base_url=\"https://openrouter.ai/api/v1\",\n",
    "    api_key=deepkey,\n",
    ")"
   ]
  },
  {
   "cell_type": "code",
   "execution_count": null,
   "id": "94a21406",
   "metadata": {},
   "outputs": [
    {
     "data": {
      "text/html": [
       "<div>\n",
       "<style scoped>\n",
       "    .dataframe tbody tr th:only-of-type {\n",
       "        vertical-align: middle;\n",
       "    }\n",
       "\n",
       "    .dataframe tbody tr th {\n",
       "        vertical-align: top;\n",
       "    }\n",
       "\n",
       "    .dataframe thead th {\n",
       "        text-align: right;\n",
       "    }\n",
       "</style>\n",
       "<table border=\"1\" class=\"dataframe\">\n",
       "  <thead>\n",
       "    <tr style=\"text-align: right;\">\n",
       "      <th></th>\n",
       "      <th>Russian</th>\n",
       "      <th>English</th>\n",
       "    </tr>\n",
       "  </thead>\n",
       "  <tbody>\n",
       "    <tr>\n",
       "      <th>0</th>\n",
       "      <td>1. Лосось на гриле с апельсиновым соусом и киноа</td>\n",
       "      <td>Grilled salmon with orange sauce and quinoa</td>\n",
       "    </tr>\n",
       "    <tr>\n",
       "      <th>1</th>\n",
       "      <td>2. Куриное филе с черным рисом и грибами шиитаке</td>\n",
       "      <td>Chicken fillet with black rice and shiitake mu...</td>\n",
       "    </tr>\n",
       "    <tr>\n",
       "      <th>2</th>\n",
       "      <td>3. Овощной рататуй с брокколи и перцем</td>\n",
       "      <td>Vegetable ratatouille with broccoli and peppers</td>\n",
       "    </tr>\n",
       "    <tr>\n",
       "      <th>3</th>\n",
       "      <td>4. Прошутто с дыней и вялеными томатами</td>\n",
       "      <td>Prosciutto with melon and sun-dried tomatoes</td>\n",
       "    </tr>\n",
       "    <tr>\n",
       "      <th>4</th>\n",
       "      <td>5. Тартар из говядины с кедровыми орехами и со...</td>\n",
       "      <td>Beef tartare with pine nuts and tartar sauce</td>\n",
       "    </tr>\n",
       "    <tr>\n",
       "      <th>...</th>\n",
       "      <td>...</td>\n",
       "      <td>...</td>\n",
       "    </tr>\n",
       "    <tr>\n",
       "      <th>993</th>\n",
       "      <td>Таймырский олень с глазированнной свеклой, айо...</td>\n",
       "      <td>Taimyr deer with glazed beets, wild garlic and...</td>\n",
       "    </tr>\n",
       "    <tr>\n",
       "      <th>994</th>\n",
       "      <td>Котлета из дикого кабана с хрустящими баклажан...</td>\n",
       "      <td>Wild boar cutlet with crispy eggplant and mari...</td>\n",
       "    </tr>\n",
       "    <tr>\n",
       "      <th>995</th>\n",
       "      <td>Цыплёнок в глазури из трюфельного мёда с печен...</td>\n",
       "      <td>Chicken in truffle honey glaze with baked pota...</td>\n",
       "    </tr>\n",
       "    <tr>\n",
       "      <th>996</th>\n",
       "      <td>Брускетта с печёным баклажаном и хрустящими ка...</td>\n",
       "      <td>Bruschetta with baked eggplant and crispy rock...</td>\n",
       "    </tr>\n",
       "    <tr>\n",
       "      <th>997</th>\n",
       "      <td>Тигровые креветки с горошком и брокколи с сырн...</td>\n",
       "      <td>Tiger prawns with peas and broccoli with chees...</td>\n",
       "    </tr>\n",
       "  </tbody>\n",
       "</table>\n",
       "<p>998 rows × 2 columns</p>\n",
       "</div>"
      ],
      "text/plain": [
       "                                               Russian  \\\n",
       "0     1. Лосось на гриле с апельсиновым соусом и киноа   \n",
       "1     2. Куриное филе с черным рисом и грибами шиитаке   \n",
       "2               3. Овощной рататуй с брокколи и перцем   \n",
       "3              4. Прошутто с дыней и вялеными томатами   \n",
       "4    5. Тартар из говядины с кедровыми орехами и со...   \n",
       "..                                                 ...   \n",
       "993  Таймырский олень с глазированнной свеклой, айо...   \n",
       "994  Котлета из дикого кабана с хрустящими баклажан...   \n",
       "995  Цыплёнок в глазури из трюфельного мёда с печен...   \n",
       "996  Брускетта с печёным баклажаном и хрустящими ка...   \n",
       "997  Тигровые креветки с горошком и брокколи с сырн...   \n",
       "\n",
       "                                               English  \n",
       "0          Grilled salmon with orange sauce and quinoa  \n",
       "1    Chicken fillet with black rice and shiitake mu...  \n",
       "2      Vegetable ratatouille with broccoli and peppers  \n",
       "3         Prosciutto with melon and sun-dried tomatoes  \n",
       "4         Beef tartare with pine nuts and tartar sauce  \n",
       "..                                                 ...  \n",
       "993  Taimyr deer with glazed beets, wild garlic and...  \n",
       "994  Wild boar cutlet with crispy eggplant and mari...  \n",
       "995  Chicken in truffle honey glaze with baked pota...  \n",
       "996  Bruschetta with baked eggplant and crispy rock...  \n",
       "997  Tiger prawns with peas and broccoli with chees...  \n",
       "\n",
       "[998 rows x 2 columns]"
      ]
     },
     "execution_count": 25,
     "metadata": {},
     "output_type": "execute_result"
    }
   ],
   "source": [
    "# Промтим, отправляем запрос и запихиваем пары русский-английский в датасет\n",
    "\n",
    "for i in range(100):\n",
    "    examples = \"\\n\".join(\n",
    "        f\"- {row['Russian']} — {row['English']}\" for _, row in df.sample(15).iterrows()\n",
    "    )\n",
    "\n",
    "    prompt = (\n",
    "        f\"Вот примеры позиций меню на русском с переводом на английский:\\n\"\n",
    "        f\"{examples}\\n\\n\"\n",
    "        f\"Скомбинируй 2 позиций меню в таком же формате (русский — английский). Они обязательно должны быть похожими на пример. Используй слова только из примеров! Никаких слов не из примера быть не должно, это обязательное условие!\"\n",
    "    )\n",
    "\n",
    "    try:\n",
    "        response = client.chat.completions.create(\n",
    "            extra_headers={\n",
    "                \"HTTP-Referer\": \"https://yourdomain.com\",\n",
    "                \"X-Title\": \"Menu Generator\",\n",
    "            },\n",
    "            model=\"openai/gpt-4o-mini\",\n",
    "            messages=[\n",
    "                {\"role\": \"user\", \"content\": prompt}\n",
    "            ]\n",
    "        )\n",
    "\n",
    "        output = response.choices[0].message.content.strip()\n",
    "\n",
    "        new_lines = [line.strip(\"- \").strip() for line in output.split(\"\\n\") if \"—\" in line]\n",
    "        new_pairs = [tuple(part.strip() for part in line.split(\"—\", 1)) for line in new_lines]\n",
    "\n",
    "        result_df = pd.DataFrame(new_pairs, columns=[\"Russian\", \"English\"])\n",
    "        df_augmentation = pd.concat([df_augmentation, result_df], ignore_index=True)\n",
    "        time.sleep(3)\n",
    "        \n",
    "        \n",
    "\n",
    "    except Exception as e:\n",
    "        print(\"Ошибка при генерации:\", e)\n",
    "        time.sleep(3)\n",
    "\n",
    "df_augmentation"
   ]
  },
  {
   "cell_type": "code",
   "execution_count": null,
   "id": "19a5d0b5",
   "metadata": {},
   "outputs": [],
   "source": [
    "# Чистим от LLM форматирования и сохраняем в CSV\n",
    "\n",
    "df_augmentation['Russian'] = df_augmentation['Russian'].str.replace(r'^\\d+\\.\\s*', '', regex=True)\n",
    "df_augmentation['Russian'] = df_augmentation['Russian'].str.replace(r'[**]', '', regex=True)\n",
    "df_augmentation['English'] = df_augmentation['English'].str.replace(r'[**]', '', regex=True)\n",
    "df_augmentation.to_csv('data/big_deep_clean.csv')"
   ]
  },
  {
   "cell_type": "markdown",
   "id": "c244b0fb",
   "metadata": {},
   "source": [
    "#### ***Yandex Translate way***"
   ]
  },
  {
   "cell_type": "code",
   "execution_count": null,
   "id": "2bfa555f",
   "metadata": {},
   "outputs": [],
   "source": [
    "# Функция отправляет запрос в YandexTranslate и получает ответ\n",
    "\n",
    "def translate(folder, api, language, text):\n",
    "    body = {\n",
    "        \"folderId\": folder,\n",
    "        \"texts\": text,\n",
    "        \"targetLanguageCode\": language\n",
    "    }\n",
    "    headers = {\n",
    "    \"Content-Type\": \"application/json\",\n",
    "    \"Authorization\": f\"Api-Key {api}\"}\n",
    "    \n",
    "    response = requests.post(\n",
    "    \"https://translate.api.cloud.yandex.net/translate/v2/translate\",\n",
    "    json=body,\n",
    "    headers=headers,\n",
    ")\n",
    "    return response.json()"
   ]
  },
  {
   "cell_type": "code",
   "execution_count": null,
   "id": "e463772e",
   "metadata": {},
   "outputs": [
    {
     "data": {
      "text/plain": [
       "0     Bruschetta with ricotta cheese, avocado cream...\n",
       "1     Panzanella salad with stracciatella di bufal,...\n",
       "2     Green salad with kiwi, eggplant, cucumber, pe...\n",
       "3     Salmon and dorado crudo, tomato salsa and capers\n",
       "4     Orecchiette pasta, pistachio crème-sauce, tig...\n",
       "5     Mezzi pasta, snow crab, neapolitan sauce and ...\n",
       "6     Chicken breast with ptitim and truffle Parmes...\n",
       "7     Tonno e cipolla pizza with tuna, red onion, o...\n",
       "8     Pera picante pizza with dorblu cheese, pear, ...\n",
       "9     Lemon pie with mascarpone cream, basil ice cream\n",
       "Name: English, dtype: object"
      ]
     },
     "execution_count": 24,
     "metadata": {},
     "output_type": "execute_result"
    }
   ],
   "source": [
    "# Берем данные для Яндекса\n",
    "data_ya = pd.read_csv('data/cleaned_data.csv')\n",
    "data_ya[\"English\"][:10]"
   ]
  },
  {
   "cell_type": "code",
   "execution_count": null,
   "id": "fed1724c",
   "metadata": {},
   "outputs": [
    {
     "name": "stdout",
     "output_type": "stream",
     "text": [
      " Bruschetta with ricotta cheese, avocado cream, lettuce and sunflower seeds -  Брускетта с сыром рикотта, кремом из авокадо, листьями салата и семечками подсолнечника\n",
      " Panzanella salad with stracciatella di bufal, olives, cheese croutons and tuna in its own juice -  Салат \"Панцанелла\" со страччателлой ди буфаль, оливками, сырными гренками и тунцом в собственном соку\n",
      " Green salad with kiwi, eggplant, cucumber, pees, spinach and citronette dressing -  Зеленый салат с киви, баклажанами, огурцами, горошком, шпинатом и цитрусовой заправкой\n",
      " Salmon and dorado crudo, tomato salsa and capers -  Крудо с лососем и дорадо, томатной сальсой и каперсами\n",
      " Orecchiette pasta, pistachio crème-sauce, tiger prawns and fried pistachio nuts -  Паста орекьетт с фисташковым крем-соусом, тигровыми креветками и жареными фисташковыми орешками\n",
      " Mezzi pasta, snow crab, neapolitan sauce and home-made stracciatella di bufala  -  Макаронные изделия, Снежный краб, соус neapolitan и домашняя Мурашка буйвола \n",
      " Chicken breast with ptitim and truffle Parmesan mousse -  Куриная грудка с птитимом и муссом из трюфельно-пармезанового пюре\n",
      " Tonno e cipolla pizza with tuna, red onion, olives and mozzarella -  Пицца \"Тонно и чиполла\" с тунцом, красным луком, оливками и моцареллой\n",
      " Pera picante pizza with dorblu cheese, pear, rucola, peanut flakes -  Пицца \"Пера пиканте\" с сыром дорблу, грушей, рукколой и арахисовыми хлопьями\n",
      " Lemon pie with mascarpone cream, basil ice cream -  Лимонный пирог с кремом из маскарпоне и базиликовым мороженым\n"
     ]
    }
   ],
   "source": [
    "# Переводим\n",
    "\n",
    "for i in range(10):\n",
    "    response = translate(folder_id, api_key, 'ru', data_ya[\"English\"][i])\n",
    "    print(f\"{data_ya['English'].iloc[i]} - {response['translations'][0]['text']}\")"
   ]
  },
  {
   "cell_type": "markdown",
   "id": "8c24b381",
   "metadata": {},
   "source": [
    "#### Результаты аугментации с помощью яндекс переводчика мне не понравились, поэтому я решил не использовать его, остановив своё внимание на аугментации с помощью LLM"
   ]
  },
  {
   "cell_type": "markdown",
   "id": "340f3ddc",
   "metadata": {},
   "source": [
    "------------------------------------"
   ]
  },
  {
   "cell_type": "markdown",
   "id": "c5257e3f",
   "metadata": {},
   "source": [
    "#### Чистим аугментированные данные, смотрим на них поближе, совмещаем с исходным датасетом:"
   ]
  },
  {
   "cell_type": "code",
   "execution_count": null,
   "id": "ec228f1d",
   "metadata": {},
   "outputs": [],
   "source": [
    "# Открываем source data\n",
    "\n",
    "data_en_source = pd.read_csv(\"data/data_en.csv\").drop('Unnamed: 0', axis=1)"
   ]
  },
  {
   "cell_type": "code",
   "execution_count": null,
   "id": "952222f9",
   "metadata": {},
   "outputs": [
    {
     "name": "stdout",
     "output_type": "stream",
     "text": [
      "<class 'pandas.core.frame.DataFrame'>\n",
      "RangeIndex: 1310 entries, 0 to 1309\n",
      "Data columns (total 2 columns):\n",
      " #   Column   Non-Null Count  Dtype \n",
      "---  ------   --------------  ----- \n",
      " 0   Russian  1310 non-null   object\n",
      " 1   English  1310 non-null   object\n",
      "dtypes: object(2)\n",
      "memory usage: 20.6+ KB\n"
     ]
    }
   ],
   "source": [
    "# Совмещаем source и augmented\n",
    "full_data = pd.concat([df_augmentation, data_en_source], axis=0, ignore_index=True)\n",
    "full_data.info()"
   ]
  },
  {
   "cell_type": "code",
   "execution_count": null,
   "id": "53654074",
   "metadata": {},
   "outputs": [
    {
     "name": "stdout",
     "output_type": "stream",
     "text": [
      "<class 'pandas.core.frame.DataFrame'>\n",
      "Index: 1301 entries, 0 to 1309\n",
      "Data columns (total 2 columns):\n",
      " #   Column   Non-Null Count  Dtype \n",
      "---  ------   --------------  ----- \n",
      " 0   Russian  1301 non-null   object\n",
      " 1   English  1301 non-null   object\n",
      "dtypes: object(2)\n",
      "memory usage: 30.5+ KB\n"
     ]
    }
   ],
   "source": [
    "# Удаляем дубликаты\n",
    "\n",
    "full_data = full_data.drop_duplicates(keep=\"first\")\n",
    "full_data.info()"
   ]
  },
  {
   "cell_type": "code",
   "execution_count": null,
   "id": "f1a17e28",
   "metadata": {},
   "outputs": [],
   "source": [
    "# Сохраняем файл\n",
    "full_data.to_csv(\"data/full_data_ver_2.csv\")"
   ]
  },
  {
   "cell_type": "markdown",
   "id": "17930604",
   "metadata": {},
   "source": [
    "### Как можно заметить по данным и коду, я прогонял его не один раз и всё пришло к тому, что у меня есть два датасета - версия 1 и версия 2. \n",
    "\n",
    "#### Они отличаются объемом и последующей чисткой. Над версией 2 я провел дополнительный анализ по количественным показателям -> **data_analysis**"
   ]
  }
 ],
 "metadata": {
  "kernelspec": {
   "display_name": "Python 3",
   "language": "python",
   "name": "python3"
  },
  "language_info": {
   "codemirror_mode": {
    "name": "ipython",
    "version": 3
   },
   "file_extension": ".py",
   "mimetype": "text/x-python",
   "name": "python",
   "nbconvert_exporter": "python",
   "pygments_lexer": "ipython3",
   "version": "3.13.3"
  }
 },
 "nbformat": 4,
 "nbformat_minor": 5
}
