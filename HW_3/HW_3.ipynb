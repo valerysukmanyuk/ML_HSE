{
  "cells": [
    {
      "cell_type": "markdown",
      "metadata": {
        "id": "H5WLWDs4_hCg"
      },
      "source": [
        "### Описание работы:\n",
        "В рамках настоящей домашней работы я попытаюсь обучить модель на \"сентимент\" датасете, в котором размечены депрессия, тревожность и другие заболевания исходя из сообщений, которые люди запостили в твиттере"
      ]
    },
    {
      "cell_type": "code",
      "execution_count": 1,
      "metadata": {
        "colab": {
          "base_uri": "https://localhost:8080/"
        },
        "id": "RUh60l6N_hCn",
        "outputId": "1b294fe5-935e-42be-e4e3-ba4821be318c"
      },
      "outputs": [
        {
          "name": "stderr",
          "output_type": "stream",
          "text": [
            "[nltk_data] Downloading package stopwords to\n",
            "[nltk_data]     C:\\Users\\mrpec\\AppData\\Roaming\\nltk_data...\n",
            "[nltk_data]   Package stopwords is already up-to-date!\n"
          ]
        },
        {
          "data": {
            "text/plain": [
              "True"
            ]
          },
          "execution_count": 1,
          "metadata": {},
          "output_type": "execute_result"
        }
      ],
      "source": [
        "import pandas as pd\n",
        "import numpy as np\n",
        "import matplotlib.pyplot as plt\n",
        "import seaborn as sns\n",
        "import tensorflow as tf\n",
        "from tensorflow.keras.preprocessing.text import Tokenizer\n",
        "from tensorflow.keras.preprocessing.sequence import pad_sequences\n",
        "from tensorflow.keras.models import Sequential\n",
        "from tensorflow.keras import layers\n",
        "from sklearn.model_selection import train_test_split\n",
        "from sklearn.preprocessing import StandardScaler, LabelEncoder\n",
        "import re\n",
        "import pymorphy3\n",
        "import nltk\n",
        "from nltk.corpus import stopwords\n",
        "nltk.download('stopwords')"
      ]
    },
    {
      "cell_type": "markdown",
      "metadata": {
        "id": "qHqpgwbS_hCr"
      },
      "source": [
        "#### Датасет:"
      ]
    },
    {
      "cell_type": "markdown",
      "metadata": {
        "id": "-YNJ8-Ng_hCs"
      },
      "source": [
        "Загружаем датасет"
      ]
    },
    {
      "cell_type": "code",
      "execution_count": 8,
      "metadata": {
        "id": "ILx9ROIM_hCs"
      },
      "outputs": [],
      "source": [
        "df = pd.read_csv(\"Combined Data.csv\")\n",
        "df = df[['statement','status']].copy()"
      ]
    },
    {
      "cell_type": "code",
      "execution_count": 9,
      "metadata": {
        "id": "lRQo81Zx_hCt"
      },
      "outputs": [],
      "source": [
        "stop_words = set(stopwords.words('english'))\n",
        "morph = pymorphy3.MorphAnalyzer()"
      ]
    },
    {
      "cell_type": "code",
      "execution_count": 10,
      "metadata": {
        "id": "bbsifORq_hCt"
      },
      "outputs": [],
      "source": [
        "def clean_text(text):\n",
        "\n",
        "    \"\"\"\n",
        "    Удаляем, знаки препинания, табы, абзацы, цифры, двойные пробелы. Приводим к нижнему регистру\n",
        "    \"\"\"\n",
        "    sentences = list()\n",
        "    for sentence in text:\n",
        "        sentence = re.sub(r'[^\\w\\s]|I|V', ' ', sentence)\n",
        "        sentence = re.sub(r'\\s+',' ', sentence)\n",
        "        sentence = sentence.lower()\n",
        "        sentences.append(sentence)\n",
        "    return sentences\n",
        "\n",
        "\n",
        "def lemmatize_sentence(sentence):\n",
        "    words = sentence.split()  # Разбиваем предложение на слова\n",
        "    lemmas = []\n",
        "    for word in words:\n",
        "            parsed_word = morph.parse(word)[0]  # Анализируем слово\n",
        "            lemma = parsed_word.normal_form  # Получаем лемму\n",
        "            if lemma not in stop_words:\n",
        "                lemmas.append(lemma)\n",
        "    return ' '.join(lemmas)  # Собираем слова обратно в предложение\n",
        "\n",
        "def total_slay(text):\n",
        "     cleaned = clean_text(text)\n",
        "     lemmatized_sentence = [lemmatize_sentence(sentence) for sentence in cleaned]\n",
        "     return lemmatized_sentence"
      ]
    },
    {
      "cell_type": "markdown",
      "metadata": {
        "id": "_6a6wKYP_hCu"
      },
      "source": [
        "Анализ данных датасета"
      ]
    },
    {
      "cell_type": "code",
      "execution_count": 11,
      "metadata": {
        "colab": {
          "base_uri": "https://localhost:8080/",
          "height": 605
        },
        "id": "M13DIHN1_hCv",
        "outputId": "02a38cee-036b-45d3-cdf0-ec1b390e1c4d"
      },
      "outputs": [
        {
          "name": "stdout",
          "output_type": "stream",
          "text": [
            "<class 'pandas.core.frame.DataFrame'>\n",
            "RangeIndex: 53043 entries, 0 to 53042\n",
            "Data columns (total 2 columns):\n",
            " #   Column     Non-Null Count  Dtype \n",
            "---  ------     --------------  ----- \n",
            " 0   statement  52681 non-null  object\n",
            " 1   status     53043 non-null  object\n",
            "dtypes: object(2)\n",
            "memory usage: 828.9+ KB\n"
          ]
        },
        {
          "data": {
            "image/png": "[encoded data removed]",
            "text/plain": [
              "<Figure size 640x480 with 1 Axes>"
            ]
          },
          "metadata": {},
          "output_type": "display_data"
        }
      ],
      "source": [
        "df.info()\n",
        "\n",
        "sns.countplot(x='status', data=df)\n",
        "plt.show()"
      ]
    },
    {
      "cell_type": "markdown",
      "metadata": {
        "id": "jjsWhIHR_hCv"
      },
      "source": [
        "Поскольку разброс между количеством классов большой я буду рассматривать только депрессию и норму."
      ]
    },
    {
      "cell_type": "markdown",
      "metadata": {
        "id": "XYxhKJbr_hCw"
      },
      "source": [
        "#### Обработка датасета"
      ]
    },
    {
      "cell_type": "code",
      "execution_count": 12,
      "metadata": {
        "colab": {
          "base_uri": "https://localhost:8080/",
          "height": 424
        },
        "id": "8EJD3TVG_hCw",
        "outputId": "707a046b-88b9-40aa-cf55-a1f53e9636c7"
      },
      "outputs": [
        {
          "data": {
            "text/html": [
              "<div>\n",
              "<style scoped>\n",
              "    .dataframe tbody tr th:only-of-type {\n",
              "        vertical-align: middle;\n",
              "    }\n",
              "\n",
              "    .dataframe tbody tr th {\n",
              "        vertical-align: top;\n",
              "    }\n",
              "\n",
              "    .dataframe thead th {\n",
              "        text-align: right;\n",
              "    }\n",
              "</style>\n",
              "<table border=\"1\" class=\"dataframe\">\n",
              "  <thead>\n",
              "    <tr style=\"text-align: right;\">\n",
              "      <th></th>\n",
              "      <th>statement</th>\n",
              "      <th>status</th>\n",
              "    </tr>\n",
              "  </thead>\n",
              "  <tbody>\n",
              "    <tr>\n",
              "      <th>0</th>\n",
              "      <td>Gr gr dreaming of ex crush to be my game, God</td>\n",
              "      <td>Normal</td>\n",
              "    </tr>\n",
              "    <tr>\n",
              "      <th>1</th>\n",
              "      <td>wkwkwk what a joke</td>\n",
              "      <td>Normal</td>\n",
              "    </tr>\n",
              "    <tr>\n",
              "      <th>2</th>\n",
              "      <td>Leaves are also standby in front of the PC ......</td>\n",
              "      <td>Normal</td>\n",
              "    </tr>\n",
              "    <tr>\n",
              "      <th>3</th>\n",
              "      <td>Thank God even though it's just a ride through</td>\n",
              "      <td>Normal</td>\n",
              "    </tr>\n",
              "    <tr>\n",
              "      <th>4</th>\n",
              "      <td>wedding teaser concept using the song day6 - o...</td>\n",
              "      <td>Normal</td>\n",
              "    </tr>\n",
              "    <tr>\n",
              "      <th>...</th>\n",
              "      <td>...</td>\n",
              "      <td>...</td>\n",
              "    </tr>\n",
              "    <tr>\n",
              "      <th>31750</th>\n",
              "      <td>solutions So, when I have my real bad downs th...</td>\n",
              "      <td>Depression</td>\n",
              "    </tr>\n",
              "    <tr>\n",
              "      <th>31751</th>\n",
              "      <td>I’m pretty sure I’m depressed.. Ive been feeli...</td>\n",
              "      <td>Depression</td>\n",
              "    </tr>\n",
              "    <tr>\n",
              "      <th>31752</th>\n",
              "      <td>I can’t be bothered anymore. I’m a 22 year old...</td>\n",
              "      <td>Depression</td>\n",
              "    </tr>\n",
              "    <tr>\n",
              "      <th>31753</th>\n",
              "      <td>Depression feels like you’re drowning and ther...</td>\n",
              "      <td>Depression</td>\n",
              "    </tr>\n",
              "    <tr>\n",
              "      <th>31754</th>\n",
              "      <td>mental hospital- payment and ward logistic que...</td>\n",
              "      <td>Depression</td>\n",
              "    </tr>\n",
              "  </tbody>\n",
              "</table>\n",
              "<p>31755 rows × 2 columns</p>\n",
              "</div>"
            ],
            "text/plain": [
              "                                               statement      status\n",
              "0          Gr gr dreaming of ex crush to be my game, God      Normal\n",
              "1                                     wkwkwk what a joke      Normal\n",
              "2      Leaves are also standby in front of the PC ......      Normal\n",
              "3         Thank God even though it's just a ride through      Normal\n",
              "4      wedding teaser concept using the song day6 - o...      Normal\n",
              "...                                                  ...         ...\n",
              "31750  solutions So, when I have my real bad downs th...  Depression\n",
              "31751  I’m pretty sure I’m depressed.. Ive been feeli...  Depression\n",
              "31752  I can’t be bothered anymore. I’m a 22 year old...  Depression\n",
              "31753  Depression feels like you’re drowning and ther...  Depression\n",
              "31754  mental hospital- payment and ward logistic que...  Depression\n",
              "\n",
              "[31755 rows x 2 columns]"
            ]
          },
          "execution_count": 12,
          "metadata": {},
          "output_type": "execute_result"
        }
      ],
      "source": [
        "# Удаляем заболевания\n",
        "df_depr_norm = df[df['status'].isin(['Depression', 'Normal'])].reset_index(drop=True)\n",
        "df_depr_norm['statement'] = df_depr_norm['statement'].astype(str)\n",
        "texts = df_depr_norm['statement'].tolist()\n",
        "statuses = df_depr_norm['status'].tolist()\n",
        "df_depr_norm"
      ]
    },
    {
      "cell_type": "code",
      "execution_count": 13,
      "metadata": {
        "id": "MMKbQNHt_hCw"
      },
      "outputs": [],
      "source": [
        "cleaned_texts = total_slay(texts)"
      ]
    },
    {
      "cell_type": "code",
      "execution_count": 14,
      "metadata": {
        "id": "aJVgxvNm_hCx"
      },
      "outputs": [],
      "source": [
        "for index, text in enumerate(cleaned_texts):\n",
        "    if text == \"\":\n",
        "        statuses.pop(index)\n",
        "        cleaned_texts.pop(index)"
      ]
    },
    {
      "cell_type": "code",
      "execution_count": 15,
      "metadata": {
        "colab": {
          "base_uri": "https://localhost:8080/"
        },
        "id": "zjNQI_ZC_hCx",
        "outputId": "b11ca38c-5e92-49f4-fe85-2f13511ce9ca"
      },
      "outputs": [
        {
          "data": {
            "text/plain": [
              "31599"
            ]
          },
          "execution_count": 15,
          "metadata": {},
          "output_type": "execute_result"
        }
      ],
      "source": [
        "len(cleaned_texts)"
      ]
    },
    {
      "cell_type": "code",
      "execution_count": 16,
      "metadata": {
        "colab": {
          "base_uri": "https://localhost:8080/"
        },
        "id": "RBCXki5f_hCx",
        "outputId": "b7766636-89be-44c4-f08b-3803271f6ae5"
      },
      "outputs": [
        {
          "data": {
            "text/plain": [
              "31599"
            ]
          },
          "execution_count": 16,
          "metadata": {},
          "output_type": "execute_result"
        }
      ],
      "source": [
        "len(statuses)"
      ]
    },
    {
      "cell_type": "code",
      "execution_count": null,
      "metadata": {
        "id": "j2UrQGVp_hCx"
      },
      "outputs": [],
      "source": [
        "# Создаем токенизатор и обучаем на текстах\n",
        "tokenizer = Tokenizer()\n",
        "tokenizer.fit_on_texts(cleaned_texts)\n",
        "sequences = tokenizer.texts_to_sequences(cleaned_texts)\n",
        "\n",
        "# Добиваем последовательности до одной длинны\n",
        "padded_sequences = pad_sequences(sequences, padding='post')"
      ]
    },
    {
      "cell_type": "markdown",
      "metadata": {
        "id": "-Yccsy-N_hCx"
      },
      "source": [
        "Создадим финальный датафрейм с числовыми значениям"
      ]
    },
    {
      "cell_type": "code",
      "execution_count": 15,
      "metadata": {
        "colab": {
          "base_uri": "https://localhost:8080/",
          "height": 424
        },
        "id": "rx3tZgot_hCy",
        "outputId": "80a6ab29-1ce4-4884-c7f7-90a634055c8d"
      },
      "outputs": [
        {
          "data": {
            "application/vnd.google.colaboratory.intrinsic+json": {
              "summary": "{\n  \"name\": \"data\",\n  \"rows\": 31599,\n  \"fields\": [\n    {\n      \"column\": \"statements\",\n      \"properties\": {\n        \"dtype\": \"object\",\n        \"semantic_type\": \"\",\n        \"description\": \"\"\n      }\n    },\n    {\n      \"column\": \"status\",\n      \"properties\": {\n        \"dtype\": \"number\",\n        \"std\": 0,\n        \"min\": 0,\n        \"max\": 1,\n        \"num_unique_values\": 2,\n        \"samples\": [\n          0,\n          1\n        ],\n        \"semantic_type\": \"\",\n        \"description\": \"\"\n      }\n    }\n  ]\n}",
              "type": "dataframe",
              "variable_name": "data"
            },
            "text/html": [
              "\n",
              "  <div id=\"df-30482441-3257-4bd0-934d-14c51fc4395c\" class=\"colab-df-container\">\n",
              "    <div>\n",
              "<style scoped>\n",
              "    .dataframe tbody tr th:only-of-type {\n",
              "        vertical-align: middle;\n",
              "    }\n",
              "\n",
              "    .dataframe tbody tr th {\n",
              "        vertical-align: top;\n",
              "    }\n",
              "\n",
              "    .dataframe thead th {\n",
              "        text-align: right;\n",
              "    }\n",
              "</style>\n",
              "<table border=\"1\" class=\"dataframe\">\n",
              "  <thead>\n",
              "    <tr style=\"text-align: right;\">\n",
              "      <th></th>\n",
              "      <th>statements</th>\n",
              "      <th>status</th>\n",
              "    </tr>\n",
              "  </thead>\n",
              "  <tbody>\n",
              "    <tr>\n",
              "      <th>0</th>\n",
              "      <td>[9033, 9033, 2275, 480, 1586, 493, 291, 0, 0, ...</td>\n",
              "      <td>1</td>\n",
              "    </tr>\n",
              "    <tr>\n",
              "      <th>1</th>\n",
              "      <td>[4406, 826, 0, 0, 0, 0, 0, 0, 0, 0, 0, 0, 0, 0...</td>\n",
              "      <td>1</td>\n",
              "    </tr>\n",
              "    <tr>\n",
              "      <th>2</th>\n",
              "      <td>[1698, 56, 9908, 618, 1754, 1006, 280, 183, 0,...</td>\n",
              "      <td>1</td>\n",
              "    </tr>\n",
              "    <tr>\n",
              "      <th>3</th>\n",
              "      <td>[300, 291, 7, 130, 1458, 0, 0, 0, 0, 0, 0, 0, ...</td>\n",
              "      <td>1</td>\n",
              "    </tr>\n",
              "    <tr>\n",
              "      <th>4</th>\n",
              "      <td>[1971, 5342, 2681, 729, 1217, 15520, 852, 28, ...</td>\n",
              "      <td>1</td>\n",
              "    </tr>\n",
              "    <tr>\n",
              "      <th>...</th>\n",
              "      <td>...</td>\n",
              "      <td>...</td>\n",
              "    </tr>\n",
              "    <tr>\n",
              "      <th>31594</th>\n",
              "      <td>[3073, 207, 51, 2803, 40, 1303, 359, 483, 297,...</td>\n",
              "      <td>0</td>\n",
              "    </tr>\n",
              "    <tr>\n",
              "      <th>31595</th>\n",
              "      <td>[177, 142, 58, 34, 40, 157, 4, 12557, 124, 322...</td>\n",
              "      <td>0</td>\n",
              "    </tr>\n",
              "    <tr>\n",
              "      <th>31596</th>\n",
              "      <td>[1554, 31, 1102, 39, 144, 950, 10, 1554, 120, ...</td>\n",
              "      <td>0</td>\n",
              "    </tr>\n",
              "    <tr>\n",
              "      <th>31597</th>\n",
              "      <td>[14, 128, 1, 1610, 40, 1610, 235, 0, 0, 0, 0, ...</td>\n",
              "      <td>0</td>\n",
              "    </tr>\n",
              "    <tr>\n",
              "      <th>31598</th>\n",
              "      <td>[110, 464, 3444, 1763, 20844, 906, 1014, 110, ...</td>\n",
              "      <td>0</td>\n",
              "    </tr>\n",
              "  </tbody>\n",
              "</table>\n",
              "<p>31599 rows × 2 columns</p>\n",
              "</div>\n",
              "    <div class=\"colab-df-buttons\">\n",
              "\n",
              "  <div class=\"colab-df-container\">\n",
              "    <button class=\"colab-df-convert\" onclick=\"convertToInteractive('df-30482441-3257-4bd0-934d-14c51fc4395c')\"\n",
              "            title=\"Convert this dataframe to an interactive table.\"\n",
              "            style=\"display:none;\">\n",
              "\n",
              "  <svg xmlns=\"http://www.w3.org/2000/svg\" height=\"24px\" viewBox=\"0 -960 960 960\">\n",
              "    <path d=\"M120-120v-720h720v720H120Zm60-500h600v-160H180v160Zm220 220h160v-160H400v160Zm0 220h160v-160H400v160ZM180-400h160v-160H180v160Zm440 0h160v-160H620v160ZM180-180h160v-160H180v160Zm440 0h160v-160H620v160Z\"/>\n",
              "  </svg>\n",
              "    </button>\n",
              "\n",
              "  <style>\n",
              "    .colab-df-container {\n",
              "      display:flex;\n",
              "      gap: 12px;\n",
              "    }\n",
              "\n",
              "    .colab-df-convert {\n",
              "      background-color: #E8F0FE;\n",
              "      border: none;\n",
              "      border-radius: 50%;\n",
              "      cursor: pointer;\n",
              "      display: none;\n",
              "      fill: #1967D2;\n",
              "      height: 32px;\n",
              "      padding: 0 0 0 0;\n",
              "      width: 32px;\n",
              "    }\n",
              "\n",
              "    .colab-df-convert:hover {\n",
              "      background-color: #E2EBFA;\n",
              "      box-shadow: 0px 1px 2px rgba(60, 64, 67, 0.3), 0px 1px 3px 1px rgba(60, 64, 67, 0.15);\n",
              "      fill: #174EA6;\n",
              "    }\n",
              "\n",
              "    .colab-df-buttons div {\n",
              "      margin-bottom: 4px;\n",
              "    }\n",
              "\n",
              "    [theme=dark] .colab-df-convert {\n",
              "      background-color: #3B4455;\n",
              "      fill: #D2E3FC;\n",
              "    }\n",
              "\n",
              "    [theme=dark] .colab-df-convert:hover {\n",
              "      background-color: #434B5C;\n",
              "      box-shadow: 0px 1px 3px 1px rgba(0, 0, 0, 0.15);\n",
              "      filter: drop-shadow(0px 1px 2px rgba(0, 0, 0, 0.3));\n",
              "      fill: #FFFFFF;\n",
              "    }\n",
              "  </style>\n",
              "\n",
              "    <script>\n",
              "      const buttonEl =\n",
              "        document.querySelector('#df-30482441-3257-4bd0-934d-14c51fc4395c button.colab-df-convert');\n",
              "      buttonEl.style.display =\n",
              "        google.colab.kernel.accessAllowed ? 'block' : 'none';\n",
              "\n",
              "      async function convertToInteractive(key) {\n",
              "        const element = document.querySelector('#df-30482441-3257-4bd0-934d-14c51fc4395c');\n",
              "        const dataTable =\n",
              "          await google.colab.kernel.invokeFunction('convertToInteractive',\n",
              "                                                    [key], {});\n",
              "        if (!dataTable) return;\n",
              "\n",
              "        const docLinkHtml = 'Like what you see? Visit the ' +\n",
              "          '<a target=\"_blank\" href=https://colab.research.google.com/notebooks/data_table.ipynb>data table notebook</a>'\n",
              "          + ' to learn more about interactive tables.';\n",
              "        element.innerHTML = '';\n",
              "        dataTable['output_type'] = 'display_data';\n",
              "        await google.colab.output.renderOutput(dataTable, element);\n",
              "        const docLink = document.createElement('div');\n",
              "        docLink.innerHTML = docLinkHtml;\n",
              "        element.appendChild(docLink);\n",
              "      }\n",
              "    </script>\n",
              "  </div>\n",
              "\n",
              "\n",
              "<div id=\"df-60ee248e-92d2-454e-99d7-d93e3dc95475\">\n",
              "  <button class=\"colab-df-quickchart\" onclick=\"quickchart('df-60ee248e-92d2-454e-99d7-d93e3dc95475')\"\n",
              "            title=\"Suggest charts\"\n",
              "            style=\"display:none;\">\n",
              "\n",
              "<svg xmlns=\"http://www.w3.org/2000/svg\" height=\"24px\"viewBox=\"0 0 24 24\"\n",
              "     width=\"24px\">\n",
              "    <g>\n",
              "        <path d=\"M19 3H5c-1.1 0-2 .9-2 2v14c0 1.1.9 2 2 2h14c1.1 0 2-.9 2-2V5c0-1.1-.9-2-2-2zM9 17H7v-7h2v7zm4 0h-2V7h2v10zm4 0h-2v-4h2v4z\"/>\n",
              "    </g>\n",
              "</svg>\n",
              "  </button>\n",
              "\n",
              "<style>\n",
              "  .colab-df-quickchart {\n",
              "      --bg-color: #E8F0FE;\n",
              "      --fill-color: #1967D2;\n",
              "      --hover-bg-color: #E2EBFA;\n",
              "      --hover-fill-color: #174EA6;\n",
              "      --disabled-fill-color: #AAA;\n",
              "      --disabled-bg-color: #DDD;\n",
              "  }\n",
              "\n",
              "  [theme=dark] .colab-df-quickchart {\n",
              "      --bg-color: #3B4455;\n",
              "      --fill-color: #D2E3FC;\n",
              "      --hover-bg-color: #434B5C;\n",
              "      --hover-fill-color: #FFFFFF;\n",
              "      --disabled-bg-color: #3B4455;\n",
              "      --disabled-fill-color: #666;\n",
              "  }\n",
              "\n",
              "  .colab-df-quickchart {\n",
              "    background-color: var(--bg-color);\n",
              "    border: none;\n",
              "    border-radius: 50%;\n",
              "    cursor: pointer;\n",
              "    display: none;\n",
              "    fill: var(--fill-color);\n",
              "    height: 32px;\n",
              "    padding: 0;\n",
              "    width: 32px;\n",
              "  }\n",
              "\n",
              "  .colab-df-quickchart:hover {\n",
              "    background-color: var(--hover-bg-color);\n",
              "    box-shadow: 0 1px 2px rgba(60, 64, 67, 0.3), 0 1px 3px 1px rgba(60, 64, 67, 0.15);\n",
              "    fill: var(--button-hover-fill-color);\n",
              "  }\n",
              "\n",
              "  .colab-df-quickchart-complete:disabled,\n",
              "  .colab-df-quickchart-complete:disabled:hover {\n",
              "    background-color: var(--disabled-bg-color);\n",
              "    fill: var(--disabled-fill-color);\n",
              "    box-shadow: none;\n",
              "  }\n",
              "\n",
              "  .colab-df-spinner {\n",
              "    border: 2px solid var(--fill-color);\n",
              "    border-color: transparent;\n",
              "    border-bottom-color: var(--fill-color);\n",
              "    animation:\n",
              "      spin 1s steps(1) infinite;\n",
              "  }\n",
              "\n",
              "  @keyframes spin {\n",
              "    0% {\n",
              "      border-color: transparent;\n",
              "      border-bottom-color: var(--fill-color);\n",
              "      border-left-color: var(--fill-color);\n",
              "    }\n",
              "    20% {\n",
              "      border-color: transparent;\n",
              "      border-left-color: var(--fill-color);\n",
              "      border-top-color: var(--fill-color);\n",
              "    }\n",
              "    30% {\n",
              "      border-color: transparent;\n",
              "      border-left-color: var(--fill-color);\n",
              "      border-top-color: var(--fill-color);\n",
              "      border-right-color: var(--fill-color);\n",
              "    }\n",
              "    40% {\n",
              "      border-color: transparent;\n",
              "      border-right-color: var(--fill-color);\n",
              "      border-top-color: var(--fill-color);\n",
              "    }\n",
              "    60% {\n",
              "      border-color: transparent;\n",
              "      border-right-color: var(--fill-color);\n",
              "    }\n",
              "    80% {\n",
              "      border-color: transparent;\n",
              "      border-right-color: var(--fill-color);\n",
              "      border-bottom-color: var(--fill-color);\n",
              "    }\n",
              "    90% {\n",
              "      border-color: transparent;\n",
              "      border-bottom-color: var(--fill-color);\n",
              "    }\n",
              "  }\n",
              "</style>\n",
              "\n",
              "  <script>\n",
              "    async function quickchart(key) {\n",
              "      const quickchartButtonEl =\n",
              "        document.querySelector('#' + key + ' button');\n",
              "      quickchartButtonEl.disabled = true;  // To prevent multiple clicks.\n",
              "      quickchartButtonEl.classList.add('colab-df-spinner');\n",
              "      try {\n",
              "        const charts = await google.colab.kernel.invokeFunction(\n",
              "            'suggestCharts', [key], {});\n",
              "      } catch (error) {\n",
              "        console.error('Error during call to suggestCharts:', error);\n",
              "      }\n",
              "      quickchartButtonEl.classList.remove('colab-df-spinner');\n",
              "      quickchartButtonEl.classList.add('colab-df-quickchart-complete');\n",
              "    }\n",
              "    (() => {\n",
              "      let quickchartButtonEl =\n",
              "        document.querySelector('#df-60ee248e-92d2-454e-99d7-d93e3dc95475 button');\n",
              "      quickchartButtonEl.style.display =\n",
              "        google.colab.kernel.accessAllowed ? 'block' : 'none';\n",
              "    })();\n",
              "  </script>\n",
              "</div>\n",
              "    </div>\n",
              "  </div>\n"
            ],
            "text/plain": [
              "                                              statements  status\n",
              "0      [9033, 9033, 2275, 480, 1586, 493, 291, 0, 0, ...       1\n",
              "1      [4406, 826, 0, 0, 0, 0, 0, 0, 0, 0, 0, 0, 0, 0...       1\n",
              "2      [1698, 56, 9908, 618, 1754, 1006, 280, 183, 0,...       1\n",
              "3      [300, 291, 7, 130, 1458, 0, 0, 0, 0, 0, 0, 0, ...       1\n",
              "4      [1971, 5342, 2681, 729, 1217, 15520, 852, 28, ...       1\n",
              "...                                                  ...     ...\n",
              "31594  [3073, 207, 51, 2803, 40, 1303, 359, 483, 297,...       0\n",
              "31595  [177, 142, 58, 34, 40, 157, 4, 12557, 124, 322...       0\n",
              "31596  [1554, 31, 1102, 39, 144, 950, 10, 1554, 120, ...       0\n",
              "31597  [14, 128, 1, 1610, 40, 1610, 235, 0, 0, 0, 0, ...       0\n",
              "31598  [110, 464, 3444, 1763, 20844, 906, 1014, 110, ...       0\n",
              "\n",
              "[31599 rows x 2 columns]"
            ]
          },
          "execution_count": 15,
          "metadata": {},
          "output_type": "execute_result"
        }
      ],
      "source": [
        "data = pd.DataFrame()\n",
        "data['statements'] = list(padded_sequences)\n",
        "data['status'] = list(statuses)\n",
        "# Приводим категориальные данные в числовые\n",
        "data['status'] = status = LabelEncoder().fit_transform(statuses)\n",
        "data # 1 - Normal, 0 - Depression"
      ]
    },
    {
      "cell_type": "markdown",
      "metadata": {
        "id": "fzIzsMxH_hCy"
      },
      "source": [
        "#### Переходим к обучению"
      ]
    },
    {
      "cell_type": "code",
      "execution_count": 16,
      "metadata": {
        "colab": {
          "base_uri": "https://localhost:8080/"
        },
        "id": "tVuHIeHL_hCy",
        "outputId": "4f22bb17-7c7f-4cd1-afe1-dfbe74280237"
      },
      "outputs": [
        {
          "name": "stdout",
          "output_type": "stream",
          "text": [
            "<class 'numpy.ndarray'>\n",
            "(25279, 1845)\n",
            "<class 'numpy.ndarray'>\n",
            "(25279,)\n"
          ]
        }
      ],
      "source": [
        "# Делим на тренировочную и тестовую выборки\n",
        "X_train, X_test, y_train, y_test = train_test_split(padded_sequences, status, test_size=0.2, shuffle=False)\n",
        "print(type(X_train))\n",
        "print(X_train.shape)\n",
        "print(type(y_train))\n",
        "print(y_train.shape)"
      ]
    },
    {
      "cell_type": "code",
      "execution_count": 17,
      "metadata": {
        "colab": {
          "base_uri": "https://localhost:8080/"
        },
        "id": "BWKQcpGs_hCy",
        "outputId": "bc410fbc-5aa2-4fb8-b180-bc62fa0d52bf"
      },
      "outputs": [
        {
          "name": "stdout",
          "output_type": "stream",
          "text": [
            "44055\n"
          ]
        }
      ],
      "source": [
        "print(len(tokenizer.word_index))"
      ]
    },
    {
      "cell_type": "code",
      "execution_count": 32,
      "metadata": {
        "colab": {
          "base_uri": "https://localhost:8080/",
          "height": 1000
        },
        "id": "5nTPiLFjJ3id",
        "outputId": "d4c148ae-66d6-416b-8569-1773e40cd99c"
      },
      "outputs": [
        {
          "name": "stdout",
          "output_type": "stream",
          "text": [
            "Epoch 1/30\n"
          ]
        },
        {
          "name": "stderr",
          "output_type": "stream",
          "text": [
            "/usr/local/lib/python3.11/dist-packages/keras/src/layers/layer.py:938: UserWarning: Layer 'conv1d_4' (of type Conv1D) was passed an input with a mask attached to it. However, this layer does not support masking and will therefore destroy the mask information. Downstream layers will not see the mask.\n",
            "  warnings.warn(\n"
          ]
        },
        {
          "name": "stdout",
          "output_type": "stream",
          "text": [
            "\u001b[1m790/790\u001b[0m \u001b[32m━━━━━━━━━━━━━━━━━━━━\u001b[0m\u001b[37m\u001b[0m \u001b[1m22s\u001b[0m 19ms/step - accuracy: 0.6463 - loss: 2.8856 - val_accuracy: 0.7372 - val_loss: 2.8132 - learning_rate: 1.0000e-05\n",
            "Epoch 2/30\n",
            "\u001b[1m790/790\u001b[0m \u001b[32m━━━━━━━━━━━━━━━━━━━━\u001b[0m\u001b[37m\u001b[0m \u001b[1m12s\u001b[0m 13ms/step - accuracy: 0.8101 - loss: 2.5194 - val_accuracy: 0.8081 - val_loss: 2.4969 - learning_rate: 1.0000e-05\n",
            "Epoch 3/30\n",
            "\u001b[1m790/790\u001b[0m \u001b[32m━━━━━━━━━━━━━━━━━━━━\u001b[0m\u001b[37m\u001b[0m \u001b[1m20s\u001b[0m 13ms/step - accuracy: 0.8446 - loss: 2.3222 - val_accuracy: 0.8269 - val_loss: 2.2853 - learning_rate: 1.0000e-05\n",
            "Epoch 4/30\n",
            "\u001b[1m790/790\u001b[0m \u001b[32m━━━━━━━━━━━━━━━━━━━━\u001b[0m\u001b[37m\u001b[0m \u001b[1m10s\u001b[0m 13ms/step - accuracy: 0.8533 - loss: 2.1582 - val_accuracy: 0.8201 - val_loss: 2.1378 - learning_rate: 1.0000e-05\n",
            "Epoch 5/30\n",
            "\u001b[1m790/790\u001b[0m \u001b[32m━━━━━━━━━━━━━━━━━━━━\u001b[0m\u001b[37m\u001b[0m \u001b[1m10s\u001b[0m 13ms/step - accuracy: 0.8583 - loss: 1.9848 - val_accuracy: 0.8274 - val_loss: 1.9743 - learning_rate: 1.0000e-05\n",
            "Epoch 6/30\n",
            "\u001b[1m790/790\u001b[0m \u001b[32m━━━━━━━━━━━━━━━━━━━━\u001b[0m\u001b[37m\u001b[0m \u001b[1m10s\u001b[0m 12ms/step - accuracy: 0.8534 - loss: 1.8252 - val_accuracy: 0.8367 - val_loss: 1.8035 - learning_rate: 1.0000e-05\n",
            "Epoch 7/30\n",
            "\u001b[1m790/790\u001b[0m \u001b[32m━━━━━━━━━━━━━━━━━━━━\u001b[0m\u001b[37m\u001b[0m \u001b[1m10s\u001b[0m 13ms/step - accuracy: 0.8521 - loss: 1.6476 - val_accuracy: 0.8451 - val_loss: 1.6444 - learning_rate: 1.0000e-05\n",
            "Epoch 8/30\n",
            "\u001b[1m790/790\u001b[0m \u001b[32m━━━━━━━━━━━━━━━━━━━━\u001b[0m\u001b[37m\u001b[0m \u001b[1m10s\u001b[0m 13ms/step - accuracy: 0.8600 - loss: 1.4901 - val_accuracy: 0.8549 - val_loss: 1.4943 - learning_rate: 1.0000e-05\n",
            "Epoch 9/30\n",
            "\u001b[1m790/790\u001b[0m \u001b[32m━━━━━━━━━━━━━━━━━━━━\u001b[0m\u001b[37m\u001b[0m \u001b[1m10s\u001b[0m 12ms/step - accuracy: 0.8650 - loss: 1.3442 - val_accuracy: 0.8472 - val_loss: 1.3716 - learning_rate: 1.0000e-05\n",
            "Epoch 10/30\n",
            "\u001b[1m790/790\u001b[0m \u001b[32m━━━━━━━━━━━━━━━━━━━━\u001b[0m\u001b[37m\u001b[0m \u001b[1m10s\u001b[0m 13ms/step - accuracy: 0.8634 - loss: 1.2274 - val_accuracy: 0.8547 - val_loss: 1.2739 - learning_rate: 1.0000e-05\n",
            "Epoch 11/30\n",
            "\u001b[1m790/790\u001b[0m \u001b[32m━━━━━━━━━━━━━━━━━━━━\u001b[0m\u001b[37m\u001b[0m \u001b[1m10s\u001b[0m 13ms/step - accuracy: 0.8658 - loss: 1.1363 - val_accuracy: 0.8608 - val_loss: 1.1856 - learning_rate: 1.0000e-05\n",
            "Epoch 12/30\n",
            "\u001b[1m790/790\u001b[0m \u001b[32m━━━━━━━━━━━━━━━━━━━━\u001b[0m\u001b[37m\u001b[0m \u001b[1m10s\u001b[0m 13ms/step - accuracy: 0.8660 - loss: 1.0611 - val_accuracy: 0.8695 - val_loss: 1.1150 - learning_rate: 1.0000e-05\n",
            "Epoch 13/30\n",
            "\u001b[1m790/790\u001b[0m \u001b[32m━━━━━━━━━━━━━━━━━━━━\u001b[0m\u001b[37m\u001b[0m \u001b[1m10s\u001b[0m 13ms/step - accuracy: 0.8685 - loss: 0.9916 - val_accuracy: 0.8734 - val_loss: 1.0474 - learning_rate: 1.0000e-05\n",
            "Epoch 14/30\n",
            "\u001b[1m790/790\u001b[0m \u001b[32m━━━━━━━━━━━━━━━━━━━━\u001b[0m\u001b[37m\u001b[0m \u001b[1m10s\u001b[0m 13ms/step - accuracy: 0.8710 - loss: 0.9360 - val_accuracy: 0.8750 - val_loss: 0.9855 - learning_rate: 1.0000e-05\n",
            "Epoch 15/30\n",
            "\u001b[1m790/790\u001b[0m \u001b[32m━━━━━━━━━━━━━━━━━━━━\u001b[0m\u001b[37m\u001b[0m \u001b[1m10s\u001b[0m 12ms/step - accuracy: 0.8756 - loss: 0.8773 - val_accuracy: 0.8856 - val_loss: 0.9265 - learning_rate: 1.0000e-05\n",
            "Epoch 16/30\n",
            "\u001b[1m790/790\u001b[0m \u001b[32m━━━━━━━━━━━━━━━━━━━━\u001b[0m\u001b[37m\u001b[0m \u001b[1m10s\u001b[0m 13ms/step - accuracy: 0.8854 - loss: 0.8270 - val_accuracy: 0.8910 - val_loss: 0.8612 - learning_rate: 1.0000e-05\n",
            "Epoch 17/30\n",
            "\u001b[1m790/790\u001b[0m \u001b[32m━━━━━━━━━━━━━━━━━━━━\u001b[0m\u001b[37m\u001b[0m \u001b[1m10s\u001b[0m 13ms/step - accuracy: 0.8921 - loss: 0.7710 - val_accuracy: 0.8957 - val_loss: 0.8100 - learning_rate: 1.0000e-05\n",
            "Epoch 18/30\n",
            "\u001b[1m790/790\u001b[0m \u001b[32m━━━━━━━━━━━━━━━━━━━━\u001b[0m\u001b[37m\u001b[0m \u001b[1m10s\u001b[0m 13ms/step - accuracy: 0.8928 - loss: 0.7360 - val_accuracy: 0.8997 - val_loss: 0.7686 - learning_rate: 1.0000e-05\n",
            "Epoch 19/30\n",
            "\u001b[1m790/790\u001b[0m \u001b[32m━━━━━━━━━━━━━━━━━━━━\u001b[0m\u001b[37m\u001b[0m \u001b[1m10s\u001b[0m 13ms/step - accuracy: 0.9014 - loss: 0.6944 - val_accuracy: 0.9021 - val_loss: 0.7156 - learning_rate: 1.0000e-05\n",
            "Epoch 20/30\n",
            "\u001b[1m790/790\u001b[0m \u001b[32m━━━━━━━━━━━━━━━━━━━━\u001b[0m\u001b[37m\u001b[0m \u001b[1m10s\u001b[0m 13ms/step - accuracy: 0.9067 - loss: 0.6539 - val_accuracy: 0.9065 - val_loss: 0.6805 - learning_rate: 1.0000e-05\n",
            "Epoch 21/30\n",
            "\u001b[1m790/790\u001b[0m \u001b[32m━━━━━━━━━━━━━━━━━━━━\u001b[0m\u001b[37m\u001b[0m \u001b[1m10s\u001b[0m 13ms/step - accuracy: 0.9075 - loss: 0.6331 - val_accuracy: 0.9089 - val_loss: 0.6454 - learning_rate: 1.0000e-05\n",
            "Epoch 22/30\n",
            "\u001b[1m790/790\u001b[0m \u001b[32m━━━━━━━━━━━━━━━━━━━━\u001b[0m\u001b[37m\u001b[0m \u001b[1m10s\u001b[0m 13ms/step - accuracy: 0.9191 - loss: 0.5888 - val_accuracy: 0.9068 - val_loss: 0.6119 - learning_rate: 1.0000e-05\n",
            "Epoch 23/30\n",
            "\u001b[1m790/790\u001b[0m \u001b[32m━━━━━━━━━━━━━━━━━━━━\u001b[0m\u001b[37m\u001b[0m \u001b[1m10s\u001b[0m 13ms/step - accuracy: 0.9219 - loss: 0.5628 - val_accuracy: 0.9079 - val_loss: 0.5889 - learning_rate: 1.0000e-05\n",
            "Epoch 24/30\n",
            "\u001b[1m790/790\u001b[0m \u001b[32m━━━━━━━━━━━━━━━━━━━━\u001b[0m\u001b[37m\u001b[0m \u001b[1m10s\u001b[0m 13ms/step - accuracy: 0.9244 - loss: 0.5319 - val_accuracy: 0.9087 - val_loss: 0.5655 - learning_rate: 1.0000e-05\n",
            "Epoch 25/30\n",
            "\u001b[1m790/790\u001b[0m \u001b[32m━━━━━━━━━━━━━━━━━━━━\u001b[0m\u001b[37m\u001b[0m \u001b[1m10s\u001b[0m 13ms/step - accuracy: 0.9320 - loss: 0.5089 - val_accuracy: 0.9114 - val_loss: 0.5413 - learning_rate: 1.0000e-05\n",
            "Epoch 26/30\n",
            "\u001b[1m790/790\u001b[0m \u001b[32m━━━━━━━━━━━━━━━━━━━━\u001b[0m\u001b[37m\u001b[0m \u001b[1m10s\u001b[0m 13ms/step - accuracy: 0.9301 - loss: 0.4920 - val_accuracy: 0.9051 - val_loss: 0.5310 - learning_rate: 1.0000e-05\n",
            "Epoch 27/30\n",
            "\u001b[1m790/790\u001b[0m \u001b[32m━━━━━━━━━━━━━━━━━━━━\u001b[0m\u001b[37m\u001b[0m \u001b[1m10s\u001b[0m 13ms/step - accuracy: 0.9361 - loss: 0.4680 - val_accuracy: 0.9074 - val_loss: 0.5146 - learning_rate: 1.0000e-05\n",
            "Epoch 28/30\n",
            "\u001b[1m790/790\u001b[0m \u001b[32m━━━━━━━━━━━━━━━━━━━━\u001b[0m\u001b[37m\u001b[0m \u001b[1m10s\u001b[0m 13ms/step - accuracy: 0.9371 - loss: 0.4544 - val_accuracy: 0.9070 - val_loss: 0.5014 - learning_rate: 1.0000e-05\n",
            "Epoch 29/30\n",
            "\u001b[1m790/790\u001b[0m \u001b[32m━━━━━━━━━━━━━━━━━━━━\u001b[0m\u001b[37m\u001b[0m \u001b[1m10s\u001b[0m 13ms/step - accuracy: 0.9395 - loss: 0.4343 - val_accuracy: 0.8975 - val_loss: 0.4953 - learning_rate: 1.0000e-05\n",
            "Epoch 30/30\n",
            "\u001b[1m790/790\u001b[0m \u001b[32m━━━━━━━━━━━━━━━━━━━━\u001b[0m\u001b[37m\u001b[0m \u001b[1m10s\u001b[0m 13ms/step - accuracy: 0.9408 - loss: 0.4249 - val_accuracy: 0.8910 - val_loss: 0.4889 - learning_rate: 1.0000e-05\n",
            "198/198 - 0s - 2ms/step - accuracy: 0.8910 - loss: 0.4889\n",
            "Test accuracy: 0.8910\n"
          ]
        },
        {
          "data": {
            "image/png": "[encoded data removed]",
            "text/plain": [
              "<Figure size 1200x400 with 2 Axes>"
            ]
          },
          "metadata": {},
          "output_type": "display_data"
        }
      ],
      "source": [
        "from tensorflow.keras.callbacks import EarlyStopping, ReduceLROnPlateau\n",
        "from tensorflow.keras.regularizers import l2\n",
        "\n",
        "model = Sequential([\n",
        "    # Слой векторизации текста\n",
        "    layers.Embedding(input_dim=44055, output_dim=64, mask_zero=True),\n",
        "\n",
        "    # Первый сверточный слой\n",
        "    layers.Conv1D(16, 3, activation='relu', kernel_regularizer=l2(0.02)),\n",
        "    layers.MaxPooling1D(2),\n",
        "    layers.Dropout(0.5),\n",
        "    layers.BatchNormalization(),\n",
        "\n",
        "    # Второй сверточный слой\n",
        "    layers.Conv1D(32, 3, activation='relu', kernel_regularizer=l2(0.02)),\n",
        "    layers.MaxPooling1D(2),\n",
        "    layers.Dropout(0.5),\n",
        "    layers.BatchNormalization(),\n",
        "\n",
        "    # Плющим\n",
        "    layers.Flatten(),\n",
        "\n",
        "    # Полносвязный слой\n",
        "    layers.Dense(32, activation='relu', kernel_regularizer=l2(0.02)),\n",
        "    layers.Dropout(0.5),\n",
        "    layers.BatchNormalization(),\n",
        "\n",
        "    # Выходной слой\n",
        "    layers.Dense(1, activation='sigmoid')\n",
        "])\n",
        "\n",
        "# Уменьшим начальную скорость обучения\n",
        "optimizer = tf.keras.optimizers.Adam(learning_rate=0.00001)\n",
        "\n",
        "model.compile(optimizer=optimizer,\n",
        "              loss='binary_crossentropy',\n",
        "              metrics=['accuracy'])\n",
        "\n",
        "# Добавляем EarlyStopping и ReduceLROnPlateau\n",
        "early_stopping = EarlyStopping(monitor='val_loss', patience=6, restore_best_weights=True)\n",
        "reduce_lr = ReduceLROnPlateau(monitor='val_loss', factor=0.2, patience=5, min_lr=0.000001)\n",
        "\n",
        "history = model.fit(X_train, y_train, epochs=30, validation_data=(X_test, y_test),\n",
        "                    callbacks=[early_stopping, reduce_lr])\n",
        "\n",
        "# Оцениваем модель\n",
        "test_loss, test_acc = model.evaluate(X_test, y_test, verbose=2)\n",
        "print(f\"Test accuracy: {test_acc:.4f}\")\n",
        "\n",
        "# Отрисовка графика прогресса обучения\n",
        "plt.figure(figsize=(12, 4))\n",
        "\n",
        "# Отрисовка аккуратности (точности) модели\n",
        "plt.subplot(1, 2, 1)\n",
        "plt.plot(history.history['accuracy'], label='Training Accuracy')\n",
        "plt.plot(history.history['val_accuracy'], label='Validation Accuracy')\n",
        "plt.title('Training and Validation Accuracy')\n",
        "plt.xlabel('Epoch')\n",
        "plt.ylabel('Accuracy')\n",
        "plt.legend()\n",
        "\n",
        "# Отрисовка значений функции потерь\n",
        "plt.subplot(1, 2, 2)\n",
        "plt.plot(history.history['loss'], label='Training Loss')\n",
        "plt.plot(history.history['val_loss'], label='Validation Loss')\n",
        "plt.title('Training and Validation Loss')\n",
        "plt.xlabel('Epoch')\n",
        "plt.ylabel('Loss')\n",
        "plt.legend()\n",
        "\n",
        "plt.tight_layout()\n",
        "plt.show()"
      ]
    },
    {
      "cell_type": "code",
      "execution_count": 43,
      "metadata": {
        "colab": {
          "base_uri": "https://localhost:8080/",
          "height": 618
        },
        "id": "hsBVuLFa2WCH",
        "outputId": "97c84059-d317-4f10-9094-822231c695bd"
      },
      "outputs": [
        {
          "name": "stdout",
          "output_type": "stream",
          "text": [
            "\u001b[1m198/198\u001b[0m \u001b[32m━━━━━━━━━━━━━━━━━━━━\u001b[0m\u001b[37m\u001b[0m \u001b[1m0s\u001b[0m 2ms/step\n"
          ]
        },
        {
          "data": {
            "image/png": "[encoded data removed]",
            "text/plain": [
              "<Figure size 600x400 with 2 Axes>"
            ]
          },
          "metadata": {},
          "output_type": "display_data"
        },
        {
          "name": "stdout",
          "output_type": "stream",
          "text": [
            "\n",
            "Classification Report:\n",
            "              precision    recall  f1-score   support\n",
            "\n",
            "           0       0.82      0.92      0.87      2420\n",
            "           1       0.95      0.87      0.91      3900\n",
            "\n",
            "    accuracy                           0.89      6320\n",
            "   macro avg       0.88      0.90      0.89      6320\n",
            "weighted avg       0.90      0.89      0.89      6320\n",
            "\n"
          ]
        }
      ],
      "source": [
        "# Получаем предсказания модели\n",
        "y_pred_proba = model.predict(X_test)\n",
        "y_pred = (y_pred_proba > 0.5).astype(int)\n",
        "\n",
        "# Строим confusion matrix\n",
        "cm = confusion_matrix(y_test, y_pred)\n",
        "\n",
        "plt.figure(figsize=(6, 4))\n",
        "sns.heatmap(cm, annot=True, fmt=\"d\", cmap=\"Blues\")\n",
        "plt.xlabel(\"Predicted\")\n",
        "plt.ylabel(\"Actual\")\n",
        "plt.title(\"Confusion Matrix\")\n",
        "plt.show()\n",
        "\n",
        "print(\"\\nClassification Report:\")\n",
        "print(classification_report(y_test, y_pred))"
      ]
    },
    {
      "cell_type": "code",
      "execution_count": null,
      "metadata": {
        "id": "5Md7KDfT76d7"
      },
      "outputs": [],
      "source": [
        "model.save(\"depression_twitter.keras\")"
      ]
    },
    {
      "cell_type": "code",
      "execution_count": null,
      "metadata": {},
      "outputs": [],
      "source": [
        "model = tf.keras.models.load_model(\n",
        "    \"depression_twitter.keras\", custom_objects=None, compile=True, safe_mode=True\n",
        ")"
      ]
    },
    {
      "cell_type": "code",
      "execution_count": null,
      "metadata": {},
      "outputs": [
        {
          "name": "stdout",
          "output_type": "stream",
          "text": [
            "\u001b[1m1/1\u001b[0m \u001b[32m━━━━━━━━━━━━━━━━━━━━\u001b[0m\u001b[37m\u001b[0m \u001b[1m0s\u001b[0m 61ms/step\n",
            "Prediction: Depression\n",
            "\u001b[1m1/1\u001b[0m \u001b[32m━━━━━━━━━━━━━━━━━━━━\u001b[0m\u001b[37m\u001b[0m \u001b[1m0s\u001b[0m 53ms/step\n",
            "Prediction: Depression\n",
            "\u001b[1m1/1\u001b[0m \u001b[32m━━━━━━━━━━━━━━━━━━━━\u001b[0m\u001b[37m\u001b[0m \u001b[1m0s\u001b[0m 61ms/step\n",
            "Prediction: Normal\n",
            "\u001b[1m1/1\u001b[0m \u001b[32m━━━━━━━━━━━━━━━━━━━━\u001b[0m\u001b[37m\u001b[0m \u001b[1m0s\u001b[0m 78ms/step\n",
            "Prediction: Normal\n"
          ]
        }
      ],
      "source": [
        "def predict_category(text):\n",
        "    # Препроцессинг\n",
        "    text = lemmatize_sentence(text)\n",
        "    sequences = tokenizer.texts_to_sequences([text])  # Передаем текст как список\n",
        "    max_sequence_length = 1845  \n",
        "    padded_sequences = pad_sequences(sequences, maxlen=max_sequence_length, padding='post')\n",
        "    \n",
        "    # Предсказание\n",
        "    prediction = model.predict(padded_sequences)\n",
        "    \n",
        "    # Усредняем\n",
        "\n",
        "    mean_pred = np.mean(prediction, axis=0)  # Усредняем по временным шагам\n",
        "    if mean_pred[0].round() == 1:\n",
        "        print('Prediction: Normal')\n",
        "    else:\n",
        "        print('Prediction: Depression')\n",
        "\n",
        "# Текстики от генерялок\n",
        "\n",
        "text_depr_1 = '\"Another day, another coffee. Funny how the sun keeps rising even when everything feels so heavy. But hey, at least the memes are still good, right? 🌥️☕ #JustAnotherDay'\n",
        "text_depr_2 = \"Me: exists Brain: Let’s overthink every life choice you’ve ever made at 2 a.m. Also me: Cool, cool, cool, totally fine. 🛌💭 #SleepIsForTheWeak\"\n",
        "text_norm_1 = \"The sun is shining, the birds are chirping, and I’m just here vibing with my iced latte. Life’s good. 🌞✨ #GoodVibesOnly\"\n",
        "text_norm_2 = \"When in doubt, add glitter. Or pizza. Or both. 🍕✨ #LifeHacks\"\n",
        "\n",
        "predict_category(text_depr_1)\n",
        "predict_category(text_depr_2)\n",
        "predict_category(text_norm_1)\n",
        "predict_category(text_norm_2)\n"
      ]
    },
    {
      "cell_type": "markdown",
      "metadata": {},
      "source": [
        "### Вывод: \n",
        "Нейросеть работает и показывает неплохие результаты на сгенеренных твитах со скрытой депрессией\n",
        "### P.S.\n",
        "Это было *сложно*. Попробую потом дообучить на больше классов"
      ]
    }
  ],
  "metadata": {
    "accelerator": "GPU",
    "colab": {
      "gpuType": "T4",
      "provenance": []
    },
    "kernelspec": {
      "display_name": "Python 3",
      "name": "python3"
    },
    "language_info": {
      "codemirror_mode": {
        "name": "ipython",
        "version": 3
      },
      "file_extension": ".py",
      "mimetype": "text/x-python",
      "name": "python",
      "nbconvert_exporter": "python",
      "pygments_lexer": "ipython3",
      "version": "3.12.6"
    }
  },
  "nbformat": 4,
  "nbformat_minor": 0
}
