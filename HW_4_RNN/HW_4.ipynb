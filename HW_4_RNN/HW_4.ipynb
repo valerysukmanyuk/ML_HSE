{
 "cells": [
  {
   "cell_type": "markdown",
   "metadata": {},
   "source": [
    "### Ламберт, Ламберт...: Генерим параграф про ведьмака Геральта\n",
    "В рамках данной домашки я попытаюсь реализовать хотя бы около осмысленный текст про ведьмака и его похождения. \n",
    "\n",
    "\n",
    "**Датасет:** Семь книг из саги \"Ведьмак\""
   ]
  },
  {
   "cell_type": "code",
   "execution_count": 68,
   "metadata": {},
   "outputs": [],
   "source": [
    "import tensorflow as tf\n",
    "from tensorflow.keras.models import Sequential\n",
    "from tensorflow.keras.layers import Embedding, LSTM, Dense\n",
    "from tensorflow.keras.preprocessing.text import Tokenizer\n",
    "from tensorflow.keras.preprocessing.sequence import pad_sequences\n",
    "import numpy as np\n",
    "import pandas as pd\n",
    "import re\n",
    "import itertools"
   ]
  },
  {
   "cell_type": "markdown",
   "metadata": {},
   "source": [
    "### Собираем тексты:"
   ]
  },
  {
   "cell_type": "code",
   "execution_count": 3,
   "metadata": {},
   "outputs": [],
   "source": [
    "def download(file_name):\n",
    "    with open(file_name,'r', encoding='UTF-8') as file:\n",
    "        book = file.read()\n",
    "        return book"
   ]
  },
  {
   "cell_type": "code",
   "execution_count": 33,
   "metadata": {},
   "outputs": [
    {
     "name": "stdout",
     "output_type": "stream",
     "text": [
      "Она пришла под утро.\n",
      "\n",
      "Вошла осторожно, тихо, бесшумно ступая, плывя по комнате, \n"
     ]
    }
   ],
   "source": [
    "text_0 = download('../HW_2_Fasttext/witcher_1.txt')\n",
    "text_1 = download('../HW_2_Fasttext/witcher_2.txt')\n",
    "text_2 = download('../HW_2_Fasttext/witcher_3.txt')\n",
    "text_3 = download('../HW_2_Fasttext/witcher_4.txt')\n",
    "text_4 = download('../HW_2_Fasttext/witcher_5.txt')\n",
    "text_5 = download('../HW_2_Fasttext/witcher_6.txt')\n",
    "text_6 = download('../HW_2_Fasttext/witcher_7.txt')\n",
    "\n",
    "print(text_0[20:100])"
   ]
  },
  {
   "cell_type": "markdown",
   "metadata": {},
   "source": [
    "### Чистим тексты"
   ]
  },
  {
   "cell_type": "code",
   "execution_count": 65,
   "metadata": {},
   "outputs": [],
   "source": [
    "def split_sentences(text):\n",
    "    # Регулярное выражение для разделения текста на предложения\n",
    "    pattern = r'(?<!\\w\\.\\w.)(?<![A-Z][a-z]\\.)(?<=\\.|\\?|\\!)\\s'\n",
    "    sentences = re.split(pattern, text)\n",
    "    return sentences\n",
    "\n",
    "def clean_text(text):\n",
    "    \n",
    "    \"\"\"\n",
    "    Удаляем, знаки препинания, табы, абзацы, цифры, двойные пробелы. Приводим к нижнему регистру\n",
    "    \"\"\"\n",
    "    sentences = list()\n",
    "    for sentence in text:\n",
    "        sentence = re.sub(r'[^\\w\\s]|I|V', ' ', sentence)\n",
    "        sentence = re.sub(r'[0-9]','', sentence)\n",
    "        sentence = sentence.lower()\n",
    "        sentence = re.sub(r'\\s+',' ', sentence).strip()\n",
    "        sentences.append(sentence)\n",
    "    return sentences\n",
    "\n",
    "def total_slay(text):\n",
    "    sentences = split_sentences(text)\n",
    "    cleaned_sentences = clean_text(sentences)\n",
    "    return cleaned_sentences\n"
   ]
  },
  {
   "cell_type": "code",
   "execution_count": 66,
   "metadata": {},
   "outputs": [],
   "source": [
    "text_1_ = total_slay(text_0)\n",
    "text_2_ = total_slay(text_1)\n",
    "text_3_ = total_slay(text_2)\n",
    "text_4_ = total_slay(text_3)\n",
    "text_5_ = total_slay(text_4)\n",
    "text_6_ = total_slay(text_5)\n",
    "text_7_ = total_slay(text_6)"
   ]
  },
  {
   "cell_type": "code",
   "execution_count": 72,
   "metadata": {},
   "outputs": [],
   "source": [
    "data = list(itertools.chain(text_1_,text_2_,text_3_,text_4_,text_5_,text_6_,text_7_))"
   ]
  }
 ],
 "metadata": {
  "kernelspec": {
   "display_name": "Python 3",
   "language": "python",
   "name": "python3"
  },
  "language_info": {
   "codemirror_mode": {
    "name": "ipython",
    "version": 3
   },
   "file_extension": ".py",
   "mimetype": "text/x-python",
   "name": "python",
   "nbconvert_exporter": "python",
   "pygments_lexer": "ipython3",
   "version": "3.12.6"
  }
 },
 "nbformat": 4,
 "nbformat_minor": 2
}
